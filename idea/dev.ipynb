{
 "cells": [
  {
   "attachments": {},
   "cell_type": "markdown",
   "metadata": {},
   "source": [
    "# Development notebook\n",
    "\n",
    "## Notes\n",
    "- Important to raise some exception when no competency questions are found in the text.\n",
    "- Let everyone know about the need of conventions for parsing competency questions\n",
    "- Iterative refinement needs some back-end to publish results as early as possible\n",
    "\n",
    "# Ideas\n",
    "- Generating questions from data stories directly, and check if those specified are enough\n",
    "- Use of any graph generation methodology for prototyping\n",
    "\n",
    "---"
   ]
  },
  {
   "cell_type": "code",
   "execution_count": 1,
   "metadata": {},
   "outputs": [],
   "source": [
    "%load_ext autoreload\n",
    "%autoreload 2"
   ]
  },
  {
   "cell_type": "code",
   "execution_count": 2,
   "metadata": {},
   "outputs": [],
   "source": [
    "import os\n",
    "import re\n",
    "from glob import glob\n",
    "from pathlib import Path\n",
    "from tqdm import tqdm\n",
    "\n",
    "from utils import get_directories, get_files\n",
    "\n",
    "from extractor import process_stories, add_status_tags"
   ]
  },
  {
   "cell_type": "code",
   "execution_count": 3,
   "metadata": {},
   "outputs": [],
   "source": [
    "stories_dir = \"../../stories/\""
   ]
  },
  {
   "cell_type": "code",
   "execution_count": 4,
   "metadata": {},
   "outputs": [
    {
     "name": "stderr",
     "output_type": "stream",
     "text": [
      "  0%|          | 0/36 [00:00<?, ?it/s]No CQs - No CQs in ../../stories/Sonia: Playlist User/Sonia#3_StatsMode.md\n",
      "No CQs - No CQs in ../../stories/Linka: Computer Scientist/Linka#1_MusicKnowledge.md\n",
      "100%|██████████| 36/36 [00:00<00:00, 1397.80it/s]\n"
     ]
    }
   ],
   "source": [
    "cq_store_df = process_stories(stories_dir=stories_dir, as_pandas=True)"
   ]
  },
  {
   "cell_type": "code",
   "execution_count": 5,
   "metadata": {},
   "outputs": [],
   "source": [
    "cq_store_df[\"issues\"] = cq_store_df[\"cq\"].apply(add_status_tags)"
   ]
  },
  {
   "cell_type": "code",
   "execution_count": 6,
   "metadata": {},
   "outputs": [],
   "source": [
    "cq_store_df.to_csv(\"../data/cq_sanity_checks.csv\", index=False)"
   ]
  },
  {
   "cell_type": "code",
   "execution_count": 12,
   "metadata": {},
   "outputs": [
    {
     "data": {
      "text/plain": [
       "0      [incomplete, complex, hard]\n",
       "1                             None\n",
       "2                       [to-split]\n",
       "3        [to-split, complex, hard]\n",
       "4                             None\n",
       "                  ...             \n",
       "235                           None\n",
       "236                           None\n",
       "237                           None\n",
       "238                           None\n",
       "239                           None\n",
       "Name: issues, Length: 240, dtype: object"
      ]
     },
     "execution_count": 12,
     "metadata": {},
     "output_type": "execute_result"
    }
   ],
   "source": [
    "cq_store_df[\"issues\"]"
   ]
  },
  {
   "cell_type": "code",
   "execution_count": null,
   "metadata": {},
   "outputs": [],
   "source": []
  }
 ],
 "metadata": {
  "kernelspec": {
   "display_name": "torch",
   "language": "python",
   "name": "python3"
  },
  "language_info": {
   "codemirror_mode": {
    "name": "ipython",
    "version": 3
   },
   "file_extension": ".py",
   "mimetype": "text/x-python",
   "name": "python",
   "nbconvert_exporter": "python",
   "pygments_lexer": "ipython3",
   "version": "3.9.16"
  },
  "orig_nbformat": 4,
  "vscode": {
   "interpreter": {
    "hash": "0629b25cf2271086af51bd4a0b9e85a315decf7c35b572e489ea2f74bc71ad36"
   }
  }
 },
 "nbformat": 4,
 "nbformat_minor": 2
}
